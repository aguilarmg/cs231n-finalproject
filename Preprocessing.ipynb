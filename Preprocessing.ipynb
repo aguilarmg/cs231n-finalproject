{
 "cells": [
  {
   "cell_type": "markdown",
   "metadata": {},
   "source": [
    "Preprocessing Data: Call scripts multiple times since we run into memory errors if we don't"
   ]
  },
  {
   "cell_type": "code",
   "execution_count": 1,
   "metadata": {},
   "outputs": [],
   "source": [
    "import numpy as np\n",
    "import matplotlib.pyplot as plt\n",
    "import matplotlib.image as mpimg\n",
    "\n",
    "%load_ext autoreload\n",
    "%autoreload 2"
   ]
  },
  {
   "cell_type": "code",
   "execution_count": 6,
   "metadata": {},
   "outputs": [
    {
     "name": "stdout",
     "output_type": "stream",
     "text": [
      "0\n"
     ]
    }
   ],
   "source": [
    "from Scripts.data_utils import grab_data, testing\n",
    "#i = 4\n",
    "#labels, x, y = grab_data('train_frontal_ap_' + str(i) + '.csv')\n",
    "\n",
    "#testing('train_lateral.csv')\n",
    "labels, x, y = grab_data('valid_lateral.csv')"
   ]
  },
  {
   "cell_type": "code",
   "execution_count": 7,
   "metadata": {},
   "outputs": [],
   "source": [
    "import pickle \n",
    "\n",
    "#print(i)\n",
    "\n",
    "#with open(\"Data/pkl_files/train_frontal_ap_\" + str(i) + \".pkl\", \"wb\") as fp:\n",
    "#    pickle.dump(x, fp)\n",
    "    \n",
    "with open(\"Data/pkl_files/valid_lateral.pkl\", \"wb\") as fp:\n",
    "    pickle.dump(x, fp)"
   ]
  }
 ],
 "metadata": {
  "kernelspec": {
   "display_name": "Python 3",
   "language": "python",
   "name": "python3"
  },
  "language_info": {
   "codemirror_mode": {
    "name": "ipython",
    "version": 3
   },
   "file_extension": ".py",
   "mimetype": "text/x-python",
   "name": "python",
   "nbconvert_exporter": "python",
   "pygments_lexer": "ipython3",
   "version": "3.7.3"
  }
 },
 "nbformat": 4,
 "nbformat_minor": 2
}
